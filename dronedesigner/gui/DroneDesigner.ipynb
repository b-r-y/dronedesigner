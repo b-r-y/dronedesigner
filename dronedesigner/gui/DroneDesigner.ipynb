{
 "cells": [
  {
   "cell_type": "code",
   "execution_count": null,
   "metadata": {},
   "outputs": [],
   "source": [
    "from ipywidgets import Layout, Button, Box, Label\n",
    "from dronedesigner.gui.gui_elements import frames_w, stacks_w, receivers_w\n",
    "\n",
    "form_item_layout = Layout(\n",
    "    display=\"flex\", flex_flow=\"row\", justify_content=\"space-between\"\n",
    ")\n",
    "\n",
    "available_components: list[Box] = [\n",
    "    Box([Label(value=\"Available components:\")], layout=form_item_layout),\n",
    "    Box(\n",
    "        [\n",
    "            Label(value=\"Available frames\"),\n",
    "            frames_w,\n",
    "        ],\n",
    "        layout=form_item_layout,\n",
    "    ),\n",
    "    Box(\n",
    "        [\n",
    "            Label(value=\"Avaialbe stacks\"),\n",
    "            stacks_w,\n",
    "        ],\n",
    "        layout=form_item_layout,\n",
    "    ),\n",
    "    Box(\n",
    "        [\n",
    "            Label(value=\"Available receivers\"),\n",
    "            receivers_w,\n",
    "        ],\n",
    "        layout=form_item_layout,\n",
    "    ),\n",
    "]\n",
    "\n",
    "form_available = Box(\n",
    "    available_components,\n",
    "    layout=Layout(\n",
    "        display=\"flex\",\n",
    "        flex_flow=\"column\",\n",
    "        border=\"solid 2px\",\n",
    "        align_items=\"stretch\",\n",
    "        width=\"50%\",\n",
    "    ),\n",
    ")\n",
    "form_available"
   ]
  }
 ],
 "metadata": {
  "kernelspec": {
   "display_name": ".venv",
   "language": "python",
   "name": "python3"
  },
  "language_info": {
   "codemirror_mode": {
    "name": "ipython",
    "version": 3
   },
   "file_extension": ".py",
   "mimetype": "text/x-python",
   "name": "python",
   "nbconvert_exporter": "python",
   "pygments_lexer": "ipython3",
   "version": "3.12.5"
  }
 },
 "nbformat": 4,
 "nbformat_minor": 2
}
