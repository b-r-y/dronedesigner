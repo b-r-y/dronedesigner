{
 "cells": [
  {
   "cell_type": "code",
   "execution_count": 5,
   "metadata": {},
   "outputs": [
    {
     "data": {
      "application/vnd.jupyter.widget-view+json": {
       "model_id": "c4bab2cbd238460b9c03ede4ec698451",
       "version_major": 2,
       "version_minor": 0
      },
      "text/plain": [
       "Box(children=(Box(children=(Label(value='Age of the captain'), IntSlider(value=40, max=60, min=40)), layout=La…"
      ]
     },
     "execution_count": 5,
     "metadata": {},
     "output_type": "execute_result"
    }
   ],
   "source": [
    "from ipywidgets import (\n",
    "    Layout,\n",
    "    Button,\n",
    "    Box,\n",
    "    FloatText,\n",
    "    Textarea,\n",
    "    Dropdown,\n",
    "    Label,\n",
    "    IntSlider,\n",
    "    Text,\n",
    ")\n",
    "\n",
    "form_item_layout = Layout(\n",
    "    display=\"flex\", flex_flow=\"row\", justify_content=\"space-between\"\n",
    ")\n",
    "\n",
    "form_items = [\n",
    "    Box(\n",
    "        [Label(value=\"Age of the captain\"), IntSlider(min=40, max=60)],\n",
    "        layout=form_item_layout,\n",
    "    ),\n",
    "    Box(\n",
    "        [\n",
    "            Label(value=\"Egg style\"),\n",
    "            Dropdown(options=[\"Scrambled\", \"Sunny side up\", \"Over easy\"]),\n",
    "        ],\n",
    "        layout=form_item_layout,\n",
    "    ),\n",
    "    Box([Label(value=\"Ship size\"), FloatText()], layout=form_item_layout),\n",
    "    Box([Label(value=\"Information\"), Textarea()], layout=form_item_layout),\n",
    "]\n",
    "\n",
    "form = Box(\n",
    "    form_items,\n",
    "    layout=Layout(\n",
    "        display=\"flex\",\n",
    "        flex_flow=\"column\",\n",
    "        border=\"solid 2px\",\n",
    "        align_items=\"stretch\",\n",
    "        width=\"50%\",\n",
    "    ),\n",
    ")\n",
    "form"
   ]
  },
  {
   "cell_type": "code",
   "execution_count": 6,
   "metadata": {},
   "outputs": [
    {
     "data": {
      "application/vnd.jupyter.widget-view+json": {
       "model_id": "cd555ee473f243dc920717cbe01a773c",
       "version_major": 2,
       "version_minor": 0
      },
      "text/plain": [
       "Text(value='test')"
      ]
     },
     "execution_count": 6,
     "metadata": {},
     "output_type": "execute_result"
    }
   ],
   "source": [
    "test: Text = Text(value=\"test\")\n",
    "test"
   ]
  },
  {
   "cell_type": "code",
   "execution_count": 7,
   "metadata": {},
   "outputs": [
    {
     "data": {
      "application/vnd.jupyter.widget-view+json": {
       "model_id": "cd555ee473f243dc920717cbe01a773c",
       "version_major": 2,
       "version_minor": 0
      },
      "text/plain": [
       "Text(value='new test')"
      ]
     },
     "execution_count": 7,
     "metadata": {},
     "output_type": "execute_result"
    }
   ],
   "source": [
    "test.value = \"new test\"\n",
    "test"
   ]
  }
 ],
 "metadata": {
  "kernelspec": {
   "display_name": ".venv",
   "language": "python",
   "name": "python3"
  },
  "language_info": {
   "codemirror_mode": {
    "name": "ipython",
    "version": 3
   },
   "file_extension": ".py",
   "mimetype": "text/x-python",
   "name": "python",
   "nbconvert_exporter": "python",
   "pygments_lexer": "ipython3",
   "version": "3.12.5"
  }
 },
 "nbformat": 4,
 "nbformat_minor": 2
}
